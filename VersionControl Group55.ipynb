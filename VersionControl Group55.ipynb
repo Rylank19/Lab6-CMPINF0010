{
 "cells": [
  {
   "cell_type": "code",
   "execution_count": null,
   "metadata": {},
   "outputs": [],
   "source": [
    "#Inputs\n",
    "name = input(\"Please enter your name:\")\n",
    "while True:\n",
    "    try:\n",
    "        birth_year = int(input(\"Please enter your birth year:\"))\n",
    "        break\n",
    "    except ValueError:\n",
    "        print(\"Invalid number\")\n",
    "\n",
    "#constants\n",
    "curr_year = 2023\n",
    "age = curr_year - birth_year\n",
    "\n",
    "print(\"Hey \" + str(name) + \", you are \" + str(age) + \" years old!\")\n",
    "\n",
    "if age < 18:\n",
    "    years_til_vote = 18 - age\n",
    "    print(\"You are still a minor, but there are\", years_til_vote, \"years(s) left until you can vote.\")\n",
    "elif age >= 65:\n",
    "    age_to_100 = 100 - age\n",
    "    print(\"You are a senior citizen, you have\", age_to_100, \"years until 100!\")\n",
    "else:\n",
    "    adult_time = age - 18\n",
    "    print(\"You've been in the long haul for\", adult_time, \"years.\")"
   ]
  }
 ],
 "metadata": {
  "kernelspec": {
   "display_name": "Python 3",
   "language": "python",
   "name": "python3"
  },
  "language_info": {
   "codemirror_mode": {
    "name": "ipython",
    "version": 3
   },
   "file_extension": ".py",
   "mimetype": "text/x-python",
   "name": "python",
   "nbconvert_exporter": "python",
   "pygments_lexer": "ipython3",
   "version": "3.8.3"
  }
 },
 "nbformat": 4,
 "nbformat_minor": 4
}
